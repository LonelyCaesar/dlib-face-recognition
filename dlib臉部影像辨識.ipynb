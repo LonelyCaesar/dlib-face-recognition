{
 "cells": [
  {
   "cell_type": "markdown",
   "metadata": {},
   "source": [
    "# 1.五點特徵人臉影像辨識"
   ]
  },
  {
   "cell_type": "code",
   "execution_count": 1,
   "metadata": {},
   "outputs": [
    {
     "name": "stdout",
     "output_type": "stream",
     "text": [
      "人臉數：8\n",
      "偵測人臉 0: 左：619  上：350  右：681  下：412\n",
      "偵測人臉 1: 左：751  上：343  右：803  下：395\n",
      "偵測人臉 2: 左：923  上：357  右：985  下：419\n",
      "偵測人臉 3: 左：855  上：435  右：907  下：487\n",
      "偵測人臉 4: 左：959  上：464  右：1011  下：516\n",
      "偵測人臉 5: 左：654  上：475  右：705  下：527\n",
      "偵測人臉 6: 左：536  上：357  右：598  下：419\n",
      "偵測人臉 7: 左：377  上：370  右：439  下：433\n"
     ]
    }
   ],
   "source": [
    "import dlib\n",
    "import cv2\n",
    "predictor = \"shape_predictor_5_face_landmarks.dat\"  #模型(5點)\n",
    "sp = dlib.shape_predictor(predictor)  #讀入模型\n",
    "detector = dlib.get_frontal_face_detector()  #偵測臉部\n",
    "\n",
    "img = dlib.load_rgb_image(\"media\\\\LINE_230625.jpg\")  #讀取圖片\n",
    "win = dlib.image_window()  #建立顯示視窗\n",
    "win.clear_overlay()  #清除圖形\n",
    "win.set_image(img)  #顯示圖片\n",
    "\n",
    "dets = detector(img, 1)  #臉部偵測,1為彩色\n",
    "print(\"人臉數：{}\".format(len(dets)))\n",
    "#繪製人臉矩形及5點特徵\n",
    "for k, det in enumerate(dets):\n",
    "    print(\"偵測人臉 {}: 左：{}  上：{}  右：{}  下：{}\".format(k, det.left(), det.top(), det.right(), det.bottom()))  #人臉坐標\n",
    "    win.add_overlay(det)  #顯示矩形\n",
    "    shape = sp(img, det)  #取得5點特徵 \n",
    "    win.add_overlay(shape)  #顯示5點特徵\n",
    "    dlib.hit_enter_to_continue()  #保持影像"
   ]
  },
  {
   "cell_type": "markdown",
   "metadata": {},
   "source": [
    "# 2.CNN訓練模型人臉影像辨識"
   ]
  },
  {
   "cell_type": "code",
   "execution_count": 2,
   "metadata": {},
   "outputs": [
    {
     "name": "stdout",
     "output_type": "stream",
     "text": [
      "人臉數：8\n",
      "偵測人臉 0: 左：923  上：358  右：980  下：415  信心指數：1.0898116827011108\n",
      "偵測人臉 1: 左：854  上：433  右：911  下：490  信心指數：1.0861622095108032\n",
      "偵測人臉 2: 左：654  上：472  右：701  下：520  信心指數：1.084273099899292\n",
      "偵測人臉 3: 左：755  上：343  右：802  下：390  信心指數：1.0825084447860718\n",
      "偵測人臉 4: 左：611  上：344  右：679  下：412  信心指數：1.0805684328079224\n",
      "偵測人臉 5: 左：958  上：456  右：1015  下：513  信心指數：1.0772682428359985\n",
      "偵測人臉 6: 左：543  上：362  右：591  下：409  信心指數：1.0736702680587769\n",
      "偵測人臉 7: 左：369  上：358  右：437  下：426  信心指數：1.0615956783294678\n"
     ]
    }
   ],
   "source": [
    "import dlib\n",
    "import cv2\n",
    "\n",
    "cnn_detector = dlib.cnn_face_detection_model_v1(\"mmod_human_face_detector.dat\")  #CNN模型\n",
    "img = cv2.imread(\"media\\\\LINE_230625.jpg\")\n",
    "dets = cnn_detector(img, 1)  #偵測人臉\n",
    "print(\"人臉數：{}\".format(len(dets)))\n",
    "for i, det in enumerate(dets):\n",
    "    #det.rect是人臉矩形坐標,det.confidence為信心指數\n",
    "    face = det.rect\n",
    "    left = face.left()\n",
    "    top = face.top()\n",
    "    right = face.right()\n",
    "    bottom = face.bottom()\n",
    "    print(\"偵測人臉 {}: 左：{}  上：{}  右：{}  下：{}  信心指數：{}\".format(i, left, top, right, bottom, det.confidence))\n",
    "    cv2.rectangle(img, (left, top), (right, bottom), (0, 255, 0), 1)  #畫人臉矩形\n",
    "\n",
    "cv2.namedWindow(\"win\", cv2.WINDOW_AUTOSIZE)\n",
    "cv2.imshow(\"win\", img)\n",
    "k = cv2.waitKey(0)\n",
    "cv2.destroyAllWindows()"
   ]
  },
  {
   "cell_type": "markdown",
   "metadata": {},
   "source": [
    "# 3. 68點特徵人臉影像辨識"
   ]
  },
  {
   "cell_type": "code",
   "execution_count": 3,
   "metadata": {},
   "outputs": [],
   "source": [
    "import numpy as np\n",
    "import cv2  #影象處理庫OpenCV\n",
    "import dlib\n",
    "\n",
    "predictor = dlib.shape_predictor('shape_predictor_68_face_landmarks.dat')   #構建68點特徵\n",
    "detector = dlib.get_frontal_face_detector()  #偵測臉部正面\n",
    "\n",
    "img = cv2.imread(\"media\\\\LINE_ALBUM_1120609.jpg\")  #讀取影象\n",
    "dets = detector(img, 1)  #偵測人臉\n",
    "for det in dets:\n",
    "    #人臉關鍵點識別\n",
    "    landmarks = []\n",
    "    for p in predictor(img, det).parts():  \n",
    "        landmarks.append(np.matrix([p.x, p.y])) \n",
    "    # 取得68點座標\n",
    "    for idx, point in enumerate(landmarks):\n",
    "        pos = (point[0, 0], point[0, 1])  #[0,0]為x坐標,[0,1]為y坐標\n",
    "        cv2.circle(img, pos, 5, color=(0, 255, 0))  #畫出68個小圓點\n",
    "        font = cv2.FONT_HERSHEY_SIMPLEX  # 利用cv2.putText輸出1-68\n",
    "        #引數依次是：圖片，新增的文字，座標，字型，字型大小，顏色，字型粗細\n",
    "        cv2.putText(img, str(idx+1), pos, font, 0.4, (0, 0, 255), 1,cv2.LINE_AA)\n",
    "\n",
    "cv2.namedWindow(\"img\", 2)     \n",
    "cv2.imshow(\"img\", img)       #顯示影象\n",
    "cv2.waitKey(0)\n",
    "cv2.destroyWindow(\"img\")"
   ]
  },
  {
   "cell_type": "markdown",
   "metadata": {},
   "source": [
    "# 4.攝影機圖像中劃出點輪廓"
   ]
  },
  {
   "cell_type": "code",
   "execution_count": 9,
   "metadata": {},
   "outputs": [],
   "source": [
    "from imutils.video import VideoStream\n",
    "from imutils import face_utils\n",
    "import imutils\n",
    "import time\n",
    "import dlib\n",
    "import cv2\n",
    "\n",
    "detector=dlib.get_frontal_face_detector()  #偵測臉部正面\n",
    "predictor=dlib.shape_predictor(\"shape_predictor_68_face_landmarks.dat\")  #構建68點特徵\n",
    "\n",
    "#左右眼特徵點索引\n",
    "(left_Start,left_End)=face_utils.FACIAL_LANDMARKS_IDXS[\"left_eye\"]\n",
    "(right_Start,right_End)=face_utils.FACIAL_LANDMARKS_IDXS[\"right_eye\"]\n",
    "#嘴特徵點索引\n",
    "(leftMouth,rightMouth)=face_utils.FACIAL_LANDMARKS_IDXS['mouth']\n",
    "#下巴特徵點索引\n",
    "(leftJaw,rightJaw)=face_utils.FACIAL_LANDMARKS_IDXS['jaw']\n",
    "#鼻子特徵點索引\n",
    "(leftNose,rightNose)=face_utils.FACIAL_LANDMARKS_IDXS['nose']\n",
    "#左右眉毛特徵點索引\n",
    "(left_leftEyebrow,left_rightEyebrow)=face_utils.FACIAL_LANDMARKS_IDXS['left_eyebrow']\n",
    "(right_leftEyebrow,right_rightEyebrow)=face_utils.FACIAL_LANDMARKS_IDXS['right_eyebrow']\n",
    "\n",
    "vsThread=VideoStream(src=0).start()  #開啟攝影機\n",
    "time.sleep(2.0)\n",
    "\n",
    "while True:\n",
    "    frame = vsThread.read()  #讀取影格\n",
    "    frame = imutils.resize(frame, width=720)\n",
    "    faces = detector(frame, 0)  #偵測人臉\n",
    "    for face in faces:\n",
    "        shape = predictor(frame, face)  #取得人臉\n",
    "        shape = face_utils.shape_to_np(shape)  #轉為numpy\n",
    "        #左右眼特徵點\n",
    "        leftEye = shape[left_Start:left_End]\n",
    "        rightEye = shape[right_Start:right_End]\n",
    "        #轉為外殼\n",
    "        leftEyeHull = cv2.convexHull(leftEye)\n",
    "        rightEyeHull = cv2.convexHull(rightEye)\n",
    "        #畫出輪廓\n",
    "        cv2.drawContours(frame, [leftEyeHull], -1, (0, 255, 0), 1)\n",
    "        cv2.drawContours(frame, [rightEyeHull], -1, (0, 255, 0), 1)\n",
    "        #嘴\n",
    "        mouth=shape[leftMouth:rightMouth]\n",
    "        mouthHull=cv2.convexHull(mouth)\n",
    "        cv2.drawContours(frame, [mouthHull], -1, (0, 255, 0), 1)\n",
    "        #鼻子\n",
    "        nose=shape[leftNose:rightNose]\n",
    "        noseHull=cv2.convexHull(nose)\n",
    "        cv2.drawContours(frame, [noseHull], -1, (0, 255, 0), 1)\n",
    "        #下巴\n",
    "        jaw=shape[leftJaw:rightJaw]\n",
    "        jawHull=cv2.convexHull(jaw)\n",
    "        cv2.drawContours(frame, [jawHull], -1, (0, 255, 0), 1)\n",
    "        #眉毛\n",
    "        leftEyebrow=shape[left_leftEyebrow:left_rightEyebrow]\n",
    "        rightEyebrow=shape[right_leftEyebrow:right_rightEyebrow]\n",
    "        leftEyebrowHull=cv2.convexHull(leftEyebrow)\n",
    "        rightEyebrowHull=cv2.convexHull(rightEyebrow)\n",
    "        cv2.drawContours(frame, [leftEyebrowHull], -1, (0, 255, 0), 1)\n",
    "        cv2.drawContours(frame, [rightEyebrowHull], -1, (0, 255, 0), 1)\n",
    "\n",
    "    cv2.imshow(\"Frame\", frame)\n",
    "    if cv2.waitKey(1) & 0xFF == ord('q'):\n",
    "        break\n",
    "cap.release()\n",
    "cv2.destroyAllWindows()"
   ]
  },
  {
   "cell_type": "markdown",
   "metadata": {},
   "source": [
    "# 5.攝影機臉部偵測"
   ]
  },
  {
   "cell_type": "code",
   "execution_count": 11,
   "metadata": {},
   "outputs": [],
   "source": [
    "import dlib\n",
    "import cv2\n",
    "import imutils\n",
    "# 開啟影片檔案\n",
    "cap = cv2.VideoCapture(0)\n",
    "# Dlib 的人臉偵測器\n",
    "detector = dlib.get_frontal_face_detector()\n",
    "# 以迴圈從影片檔案讀取影格，並顯示出來\n",
    "while(cap.isOpened()):\n",
    "  ret, frame = cap.read()\n",
    "  # 偵測人臉\n",
    "  face_rects, scores, idx = detector.run(frame, 0)\n",
    "  # 取出所有偵測的結果\n",
    "  for i, d in enumerate(face_rects):\n",
    "    x1 = d.left()\n",
    "    y1 = d.top()\n",
    "    x2 = d.right()\n",
    "    y2 = d.bottom()\n",
    "    text = \"%2.2f(%d)\" % (scores[i], idx[i])\n",
    "    # 以方框標示偵測的人臉\n",
    "    cv2.rectangle(frame, (x1, y1), (x2, y2), (0, 255, 0), 4, cv2.LINE_AA)\n",
    "    # 標示分數\n",
    "    cv2.putText(frame, text, (x1, y1), cv2.FONT_HERSHEY_DUPLEX,\n",
    "            0.7, (255, 255, 255), 1, cv2.LINE_AA)\n",
    "  # 顯示結果\n",
    "  cv2.imshow(\"Face Detection\", frame)\n",
    "  if cv2.waitKey(1) & 0xFF == ord('q'):\n",
    "    break\n",
    "cap.release()\n",
    "cv2.destroyAllWindows()"
   ]
  },
  {
   "cell_type": "markdown",
   "metadata": {},
   "source": [
    "# 6.辨識不同的臉"
   ]
  },
  {
   "cell_type": "code",
   "execution_count": 12,
   "metadata": {
    "scrolled": true
   },
   "outputs": [
    {
     "name": "stdout",
     "output_type": "stream",
     "text": [
      "歐式距離=0.2952158570099693\n",
      "media\\LINE_ALBUM_111.jpg 和 media\\LINE_ALBUM_11106.jpg 為同一個人！\n",
      "\n",
      "歐式距離=0.38403234459641017\n",
      "media\\LINE_ALBUM_1125.jpg 和 media\\LINE_ALBUM_1120610.jpg 不是同一個人！\n",
      "\n"
     ]
    }
   ],
   "source": [
    "import dlib, numpy\n",
    "\n",
    "predictor = \"shape_predictor_68_face_landmarks.dat\"  #人臉68特徵點模型\n",
    "recogmodel = \"dlib_face_recognition_resnet_model_v1.dat\"  #人臉辨識模型\n",
    "\n",
    "detector = dlib.get_frontal_face_detector()  #偵測臉部正面\n",
    "sp = dlib.shape_predictor(predictor)  #讀入人臉特徵點模型\n",
    "facerec = dlib.face_recognition_model_v1(recogmodel)  #讀入人臉辨識模型\n",
    "\n",
    "#取得人臉特徵點向量\n",
    "def getFeature(imgfile):\n",
    "    img = dlib.load_rgb_image(imgfile)\n",
    "    dets = detector(img, 1)\n",
    "    for det in dets:\n",
    "        shape = sp(img, det)  #特徵點偵測\n",
    "        feature = facerec.compute_face_descriptor(img, shape)  #取得128維特徵向量\n",
    "        return numpy.array(feature)  #轉換numpy array格式\n",
    "\n",
    "#判斷是否同一人 \n",
    "def samePerson(pic1, pic2):\n",
    "    feature1 = getFeature(pic1)\n",
    "    feature2 = getFeature(pic2)\n",
    "    dist = numpy.linalg.norm(feature1-feature2)  # 計算歐式距離,越小越像\n",
    "    print(\"歐式距離={}\".format(dist))\n",
    "    if dist < 0.3: \n",
    "        print(\"{} 和 {} 為同一個人！\".format(pic1, pic2))\n",
    "    else:\n",
    "        print(\"{} 和 {} 不是同一個人！\".format(pic1, pic2))\n",
    "    print()\n",
    "    \n",
    "samePerson(\"media\\\\LINE_ALBUM_111.jpg\", \"media\\\\LINE_ALBUM_11106.jpg\")  #不同人\n",
    "samePerson(\"media\\\\LINE_ALBUM_1125.jpg\", \"media\\\\LINE_ALBUM_1120610.jpg\")  #同一人\n"
   ]
  },
  {
   "cell_type": "code",
   "execution_count": null,
   "metadata": {},
   "outputs": [],
   "source": []
  }
 ],
 "metadata": {
  "kernelspec": {
   "display_name": "Python 3",
   "language": "python",
   "name": "python3"
  },
  "language_info": {
   "codemirror_mode": {
    "name": "ipython",
    "version": 3
   },
   "file_extension": ".py",
   "mimetype": "text/x-python",
   "name": "python",
   "nbconvert_exporter": "python",
   "pygments_lexer": "ipython3",
   "version": "3.8.1"
  }
 },
 "nbformat": 4,
 "nbformat_minor": 5
}
